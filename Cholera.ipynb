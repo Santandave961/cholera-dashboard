{
 "cells": [
  {
   "cell_type": "code",
   "execution_count": 2,
   "id": "1be62e6e",
   "metadata": {},
   "outputs": [],
   "source": [
    "import streamlit as st\n",
    "import pandas as pd\n",
    "import plotly.express as px\n",
    "import pandas as pd"
   ]
  },
  {
   "cell_type": "code",
   "execution_count": 3,
   "id": "e37aa961",
   "metadata": {},
   "outputs": [
    {
     "name": "stderr",
     "output_type": "stream",
     "text": [
      "2025-10-30 03:46:14.457 WARNING streamlit.runtime.caching.cache_data_api: No runtime found, using MemoryCacheStorageManager\n"
     ]
    }
   ],
   "source": [
    "@st.cache_data\n",
    "def load_data():\n",
    "    df = pd.read_csv(r\"C:\\Users\\USER\\Documents\\cholera_analysis.csv\")\n",
    "    df[\"CFR (%)\"] = round((df[\"death_total\"] / df[\"case_total\"]) * 100, 2)\n",
    "    df[\"first_epiwk\"] = pd.to_datetime(df[\"first_epiwk\"])\n",
    "    df[\"last_epiwk\"] = pd.to_datetime(df[\"last_epiwk\"])\n",
    "    df[\"Outbreak_Duration (days)\"] = (df[\"last_epiwk\"] - df[\"first_epiwk\"]).dt.days\n",
    "    return df\n",
    "\n",
    "    df = load_data()"
   ]
  },
  {
   "cell_type": "code",
   "execution_count": 4,
   "id": "3e8a1231",
   "metadata": {},
   "outputs": [
    {
     "name": "stderr",
     "output_type": "stream",
     "text": [
      "2025-10-30 03:46:20.437 WARNING streamlit.runtime.scriptrunner_utils.script_run_context: Thread 'MainThread': missing ScriptRunContext! This warning can be ignored when running in bare mode.\n"
     ]
    }
   ],
   "source": [
    "# Page config\n",
    "st.set_page_config(page_title=\"Global Cholera Dashboard\", layout=\"wide\")"
   ]
  },
  {
   "cell_type": "code",
   "execution_count": 5,
   "id": "3456b804",
   "metadata": {},
   "outputs": [
    {
     "name": "stderr",
     "output_type": "stream",
     "text": [
      "2025-10-30 03:46:22.527 WARNING streamlit.runtime.scriptrunner_utils.script_run_context: Thread 'MainThread': missing ScriptRunContext! This warning can be ignored when running in bare mode.\n",
      "2025-10-30 03:46:23.001 \n",
      "  \u001b[33m\u001b[1mWarning:\u001b[0m to view this Streamlit app on a browser, run it with the following\n",
      "  command:\n",
      "\n",
      "    streamlit run c:\\Users\\USER\\AppData\\Local\\Programs\\Python\\Python313\\Lib\\site-packages\\ipykernel_launcher.py [ARGUMENTS]\n",
      "2025-10-30 03:46:23.003 Thread 'MainThread': missing ScriptRunContext! This warning can be ignored when running in bare mode.\n",
      "2025-10-30 03:46:23.005 Thread 'MainThread': missing ScriptRunContext! This warning can be ignored when running in bare mode.\n",
      "2025-10-30 03:46:23.008 Thread 'MainThread': missing ScriptRunContext! This warning can be ignored when running in bare mode.\n",
      "2025-10-30 03:46:23.011 Thread 'MainThread': missing ScriptRunContext! This warning can be ignored when running in bare mode.\n",
      "2025-10-30 03:46:23.013 Thread 'MainThread': missing ScriptRunContext! This warning can be ignored when running in bare mode.\n"
     ]
    },
    {
     "data": {
      "text/plain": [
       "DeltaGenerator()"
      ]
     },
     "execution_count": 5,
     "metadata": {},
     "output_type": "execute_result"
    }
   ],
   "source": [
    "# Header\n",
    "st.title(\"Global Cholera Outbreak Dashboard (2024-2025)\")\n",
    "st.markdown(\"\"\"This dashboard provides insights into global cholera outbreaks using WHO-reported data. You can explore case counts, death rates and regional trends interactively.\"\"\")"
   ]
  },
  {
   "cell_type": "code",
   "execution_count": 6,
   "id": "670a02b0",
   "metadata": {},
   "outputs": [],
   "source": [
    "df = pd.read_csv(r\"C:\\Users\\USER\\Documents\\cholera_analysis.csv\")\n"
   ]
  },
  {
   "cell_type": "code",
   "execution_count": 7,
   "id": "5c0e79db",
   "metadata": {},
   "outputs": [
    {
     "name": "stderr",
     "output_type": "stream",
     "text": [
      "2025-10-30 03:46:35.041 Thread 'MainThread': missing ScriptRunContext! This warning can be ignored when running in bare mode.\n",
      "2025-10-30 03:46:35.043 Thread 'MainThread': missing ScriptRunContext! This warning can be ignored when running in bare mode.\n",
      "2025-10-30 03:46:35.044 Thread 'MainThread': missing ScriptRunContext! This warning can be ignored when running in bare mode.\n",
      "2025-10-30 03:46:35.046 Thread 'MainThread': missing ScriptRunContext! This warning can be ignored when running in bare mode.\n",
      "2025-10-30 03:46:35.047 Thread 'MainThread': missing ScriptRunContext! This warning can be ignored when running in bare mode.\n",
      "2025-10-30 03:46:35.048 Thread 'MainThread': missing ScriptRunContext! This warning can be ignored when running in bare mode.\n",
      "2025-10-30 03:46:35.050 Thread 'MainThread': missing ScriptRunContext! This warning can be ignored when running in bare mode.\n",
      "2025-10-30 03:46:35.054 Thread 'MainThread': missing ScriptRunContext! This warning can be ignored when running in bare mode.\n",
      "2025-10-30 03:46:35.055 Thread 'MainThread': missing ScriptRunContext! This warning can be ignored when running in bare mode.\n",
      "2025-10-30 03:46:35.058 Thread 'MainThread': missing ScriptRunContext! This warning can be ignored when running in bare mode.\n",
      "2025-10-30 03:46:35.061 Thread 'MainThread': missing ScriptRunContext! This warning can be ignored when running in bare mode.\n",
      "2025-10-30 03:46:35.063 Thread 'MainThread': missing ScriptRunContext! This warning can be ignored when running in bare mode.\n"
     ]
    },
    {
     "data": {
      "text/plain": [
       "DeltaGenerator()"
      ]
     },
     "execution_count": 7,
     "metadata": {},
     "output_type": "execute_result"
    }
   ],
   "source": [
    "# Key Metrics\n",
    "total_cases=df[\"case_total\"].sum()\n",
    "total_deaths=df[\"death_total\"].sum()\n",
    "\n",
    "col1, col2 = st.columns(2)\n",
    "col1.metric(\"Total Cases\", f\"{total_cases:,}\")\n",
    "col2.metric(\"Total Deaths\", f\"{total_deaths:,}\")\n",
    "\n",
    "st.markdown(\"--\")"
   ]
  },
  {
   "cell_type": "code",
   "execution_count": 8,
   "id": "e2b60486",
   "metadata": {},
   "outputs": [
    {
     "name": "stdout",
     "output_type": "stream",
     "text": [
      "Index(['adm0_name', 'who_region', 'iso_3_code', 'first_epiwk', 'last_epiwk',\n",
      "       'case_total', 'death_total'],\n",
      "      dtype='object')\n"
     ]
    }
   ],
   "source": [
    "print(df.columns)"
   ]
  },
  {
   "cell_type": "code",
   "execution_count": 9,
   "id": "f249d98b",
   "metadata": {},
   "outputs": [
    {
     "name": "stderr",
     "output_type": "stream",
     "text": [
      "2025-10-30 03:46:41.090 Thread 'MainThread': missing ScriptRunContext! This warning can be ignored when running in bare mode.\n",
      "2025-10-30 03:46:41.092 Thread 'MainThread': missing ScriptRunContext! This warning can be ignored when running in bare mode.\n",
      "2025-10-30 03:46:41.094 Thread 'MainThread': missing ScriptRunContext! This warning can be ignored when running in bare mode.\n",
      "2025-10-30 03:46:41.104 Thread 'MainThread': missing ScriptRunContext! This warning can be ignored when running in bare mode.\n",
      "2025-10-30 03:46:41.106 Thread 'MainThread': missing ScriptRunContext! This warning can be ignored when running in bare mode.\n",
      "2025-10-30 03:46:41.107 Thread 'MainThread': missing ScriptRunContext! This warning can be ignored when running in bare mode.\n"
     ]
    },
    {
     "data": {
      "text/plain": [
       "DeltaGenerator()"
      ]
     },
     "execution_count": 9,
     "metadata": {},
     "output_type": "execute_result"
    }
   ],
   "source": [
    "# Regional summary\n",
    "region_summary = df.groupby(\"who_region\")[[\"case_total\",\"death_total\"]].sum().reset_index()\n",
    "region_summary[\"CFR (%)\"] = (region_summary[\"death_total\"] / region_summary[\"case_total\"] * 100).round(2)\n",
    "\n",
    "st.subheader(\"Regional Overview\")\n",
    "st.dataframe(region_summary)"
   ]
  },
  {
   "cell_type": "code",
   "execution_count": 10,
   "id": "f0b35f44",
   "metadata": {},
   "outputs": [
    {
     "name": "stderr",
     "output_type": "stream",
     "text": [
      "2025-10-30 03:46:45.931 Thread 'MainThread': missing ScriptRunContext! This warning can be ignored when running in bare mode.\n",
      "2025-10-30 03:46:45.933 Thread 'MainThread': missing ScriptRunContext! This warning can be ignored when running in bare mode.\n",
      "2025-10-30 03:46:45.936 Thread 'MainThread': missing ScriptRunContext! This warning can be ignored when running in bare mode.\n",
      "2025-10-30 03:46:45.939 Thread 'MainThread': missing ScriptRunContext! This warning can be ignored when running in bare mode.\n",
      "2025-10-30 03:46:45.941 Thread 'MainThread': missing ScriptRunContext! This warning can be ignored when running in bare mode.\n"
     ]
    },
    {
     "data": {
      "text/plain": [
       "DeltaGenerator()"
      ]
     },
     "execution_count": 10,
     "metadata": {},
     "output_type": "execute_result"
    }
   ],
   "source": [
    "# Bar chart by region\n",
    "fig_bar = px.bar(region_summary,x=\"who_region\", y=\"case_total\", color=\"who_region\",\n",
    "                 title=\"Cholera Cases by WHO Region\", text_auto=True)\n",
    "st.plotly_chart(fig_bar,use_container_width=True)"
   ]
  },
  {
   "cell_type": "code",
   "execution_count": 15,
   "id": "b9425264",
   "metadata": {},
   "outputs": [
    {
     "name": "stderr",
     "output_type": "stream",
     "text": [
      "2025-10-30 04:02:21.367 Thread 'MainThread': missing ScriptRunContext! This warning can be ignored when running in bare mode.\n",
      "2025-10-30 04:02:21.369 Thread 'MainThread': missing ScriptRunContext! This warning can be ignored when running in bare mode.\n",
      "2025-10-30 04:02:21.372 Thread 'MainThread': missing ScriptRunContext! This warning can be ignored when running in bare mode.\n",
      "2025-10-30 04:02:21.374 Thread 'MainThread': missing ScriptRunContext! This warning can be ignored when running in bare mode.\n",
      "2025-10-30 04:02:21.378 Thread 'MainThread': missing ScriptRunContext! This warning can be ignored when running in bare mode.\n"
     ]
    },
    {
     "data": {
      "text/plain": [
       "DeltaGenerator()"
      ]
     },
     "execution_count": 15,
     "metadata": {},
     "output_type": "execute_result"
    }
   ],
   "source": [
    "# Scatter: cases vs deaths\n",
    "fig_scatter = px.scatter(df, x=\"case_total\", y=\"death_total\", color=\"who_region\",\n",
    "                         hover_name=\"adm0_name\", title=\"Cases vs Deaths by Country\")\n",
    "st.plotly_chart(fig_scatter, use_container_width=True)"
   ]
  },
  {
   "cell_type": "code",
   "execution_count": 17,
   "id": "eefb49da",
   "metadata": {},
   "outputs": [
    {
     "name": "stderr",
     "output_type": "stream",
     "text": [
      "2025-10-30 04:11:18.396 Thread 'MainThread': missing ScriptRunContext! This warning can be ignored when running in bare mode.\n",
      "2025-10-30 04:11:18.397 Thread 'MainThread': missing ScriptRunContext! This warning can be ignored when running in bare mode.\n",
      "2025-10-30 04:11:18.399 Thread 'MainThread': missing ScriptRunContext! This warning can be ignored when running in bare mode.\n",
      "2025-10-30 04:11:18.401 Thread 'MainThread': missing ScriptRunContext! This warning can be ignored when running in bare mode.\n",
      "2025-10-30 04:11:18.405 Thread 'MainThread': missing ScriptRunContext! This warning can be ignored when running in bare mode.\n"
     ]
    },
    {
     "data": {
      "text/plain": [
       "DeltaGenerator()"
      ]
     },
     "execution_count": 17,
     "metadata": {},
     "output_type": "execute_result"
    }
   ],
   "source": [
    "# Chloropeth Map\n",
    "fig_map = px.choropleth(df, locations=\"iso_3_code\", color=\"CFR (%)\", hover_name=\"adm0_name\",\n",
    "                        color_continuous_scale=\"Reds\", title=\"Global Cholera Case Fatality Rate (CFR %) \")\n",
    "st.plotly_chart(fig_map, use_container_width=True)"
   ]
  },
  {
   "cell_type": "code",
   "execution_count": 21,
   "id": "b3d5e785",
   "metadata": {},
   "outputs": [],
   "source": [
    "df['first_epiwk_num'] = pd.to_numeric(df['first_epiwk'], errors='coerce')\n",
    "df['last_epiwk_num'] = pd.to_numeric(df['last_epiwk'], errors='coerce')\n",
    "df['duration_weeks'] = df['last_epiwk_num'] - df['first_epiwk_num']\n",
    "                                      "
   ]
  },
  {
   "cell_type": "code",
   "execution_count": 22,
   "id": "b5f0aef6",
   "metadata": {},
   "outputs": [
    {
     "name": "stderr",
     "output_type": "stream",
     "text": [
      "2025-10-30 04:59:42.817 Thread 'MainThread': missing ScriptRunContext! This warning can be ignored when running in bare mode.\n",
      "2025-10-30 04:59:42.821 Thread 'MainThread': missing ScriptRunContext! This warning can be ignored when running in bare mode.\n",
      "2025-10-30 04:59:42.824 Thread 'MainThread': missing ScriptRunContext! This warning can be ignored when running in bare mode.\n",
      "2025-10-30 04:59:42.828 Thread 'MainThread': missing ScriptRunContext! This warning can be ignored when running in bare mode.\n",
      "2025-10-30 04:59:42.832 Thread 'MainThread': missing ScriptRunContext! This warning can be ignored when running in bare mode.\n"
     ]
    },
    {
     "data": {
      "text/plain": [
       "DeltaGenerator()"
      ]
     },
     "execution_count": 22,
     "metadata": {},
     "output_type": "execute_result"
    }
   ],
   "source": [
    "fig_duration = px.bar(df.sort_values(\"duration_weeks\", ascending=False).head(20),\n",
    "                      x=\"adm0_name\", y=\"duration_weeks\",\n",
    "                      title=\"Outbreak Duration by Country (in weeks)\")\n",
    "st.plotly_chart(fig_duration, use_container_width=True)"
   ]
  },
  {
   "cell_type": "code",
   "execution_count": 19,
   "id": "7470eb3a",
   "metadata": {},
   "outputs": [
    {
     "name": "stdout",
     "output_type": "stream",
     "text": [
      "['adm0_name', 'who_region', 'iso_3_code', 'first_epiwk', 'last_epiwk', 'case_total', 'death_total', 'CFR (%)']\n"
     ]
    }
   ],
   "source": [
    "print(df.columns.to_list())"
   ]
  },
  {
   "cell_type": "code",
   "execution_count": null,
   "id": "864212c9",
   "metadata": {},
   "outputs": [],
   "source": []
  },
  {
   "cell_type": "code",
   "execution_count": null,
   "id": "4a2ecc76",
   "metadata": {},
   "outputs": [],
   "source": []
  },
  {
   "cell_type": "code",
   "execution_count": null,
   "id": "a9fdcdfe",
   "metadata": {},
   "outputs": [],
   "source": []
  },
  {
   "cell_type": "code",
   "execution_count": null,
   "id": "18ef71f5",
   "metadata": {},
   "outputs": [],
   "source": []
  },
  {
   "cell_type": "code",
   "execution_count": null,
   "id": "829cf9b8",
   "metadata": {},
   "outputs": [],
   "source": []
  },
  {
   "cell_type": "code",
   "execution_count": null,
   "id": "03d25d87",
   "metadata": {},
   "outputs": [],
   "source": []
  },
  {
   "cell_type": "code",
   "execution_count": null,
   "id": "37df0ccf",
   "metadata": {},
   "outputs": [],
   "source": []
  },
  {
   "cell_type": "code",
   "execution_count": null,
   "id": "3972396c",
   "metadata": {},
   "outputs": [],
   "source": []
  }
 ],
 "metadata": {
  "kernelspec": {
   "display_name": "Python 3",
   "language": "python",
   "name": "python3"
  },
  "language_info": {
   "codemirror_mode": {
    "name": "ipython",
    "version": 3
   },
   "file_extension": ".py",
   "mimetype": "text/x-python",
   "name": "python",
   "nbconvert_exporter": "python",
   "pygments_lexer": "ipython3",
   "version": "3.13.5"
  }
 },
 "nbformat": 4,
 "nbformat_minor": 5
}
